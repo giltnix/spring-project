{
 "cells": [
  {
   "cell_type": "markdown",
   "metadata": {},
   "source": [
    "# Анализ корреляции: Криптовалюты и Международные Акции"
   ]
  },
  {
   "cell_type": "code",
   "execution_count": 1,
   "metadata": {},
   "outputs": [],
   "source": [
    "# Импорт библиотек\n",
    "import pandas as pd\n",
    "import numpy as np\n",
    "import matplotlib.pyplot as plt\n",
    "import seaborn as sns\n",
    "plt.style.use('seaborn-v0_8-pastel')"
   ]
  },
  {
   "cell_type": "code",
   "execution_count": 2,
   "metadata": {},
   "outputs": [],
   "source": [
    "# Загрузка подготовленных данных\n",
    "merged_df = pd.read_csv('../data/processed/merged_prices.csv', parse_dates=['timestamp'], index_col='timestamp')\n",
    "\n",
    "# Удаление активов с неполной историей\n",
    "merged_df = merged_df.dropna(axis=1, how='any')\n",
    "merged_df.head()"
   ]
  },
  {
   "cell_type": "code",
   "execution_count": 3,
   "metadata": {},
   "outputs": [],
   "source": [
    "# Вычисление логарифмические доходности\n",
    "log_returns = np.log(merged_df / merged_df.shift(1)).dropna()\n",
    "log_returns.head()"
   ]
  },
  {
   "cell_type": "code",
   "execution_count": 4,
   "metadata": {},
   "outputs": [],
   "source": [
    "# Матрица корреляции логарифмических доходностей\n",
    "correlation_matrix = log_returns.corr()\n",
    "\n",
    "# Визуализация: тепловая карта с подписями в ячейках\n",
    "plt.figure(figsize=(14, 12))\n",
    "sns.heatmap(correlation_matrix, annot=True, fmt=\".2f\", cmap=\"coolwarm\", linewidths=0.5, cbar=True)\n",
    "plt.title(\"Корреляция логарифмических доходностей между активами\")\n",
    "plt.tight_layout()\n",
    "plt.show()"
   ]
  },
  {
   "cell_type": "code",
   "execution_count": 5,
   "metadata": {},
   "outputs": [],
   "source": [
    "# Списки активов\n",
    "crypto_assets = ['bitcoin', 'ethereum', 'tether', 'binancecoin', 'solana']\n",
    "stock_assets = ['AAPL', 'MSFT', 'NVDA', 'AMZN', 'GOOGL', 'META', 'BRK-B', 'TSLA', 'LVMUY', 'JPM']\n",
    "\n",
    "# Оставляем только существующие\n",
    "crypto_assets = [asset for asset in crypto_assets if asset in correlation_matrix.index]\n",
    "stock_assets = [asset for asset in stock_assets if asset in correlation_matrix.columns]\n",
    "\n",
    "# Подматрица\n",
    "correlations = correlation_matrix.loc[crypto_assets, stock_assets]\n",
    "average_correlation = correlations.mean(axis=1).sort_values(ascending=False)\n",
    "\n",
    "# Визуализация: средняя корреляция криптовалют с акциями\n",
    "plt.figure(figsize=(10, 6))\n",
    "sns.barplot(x=average_correlation.values, y=average_correlation.index, hue=average_correlation.index, legend=False, palette='RdPu')\n",
    "plt.title('Средняя корреляция криптовалют с международными акциями')\n",
    "plt.xlabel('Средняя корреляция')\n",
    "plt.ylabel('Криптовалюта')\n",
    "plt.tight_layout()\n",
    "plt.show()"
   ]
  },
  {
   "cell_type": "code",
   "execution_count": 6,
   "metadata": {},
   "outputs": [],
   "source": [
    "# Визуализация: кластерная карта для группировки активов по корреляции\n",
    "sns.clustermap(correlation_matrix, cmap=\"vlag\", figsize=(13, 13), annot=True, fmt=\".2f\", linewidths=0.4)\n",
    "plt.title(\"Кластеризация активов по корреляции\", pad=100)\n",
    "plt.show()"
   ]
  },
  {
   "cell_type": "code",
   "execution_count": 7,
   "metadata": {},
   "outputs": [],
   "source": [
    "# Визуализация: распределение корреляций между криптой и акциями\n",
    "crypto_stock_corrs = correlations.values.flatten()\n",
    "\n",
    "plt.figure(figsize=(8, 5))\n",
    "sns.histplot(crypto_stock_corrs, bins=20, kde=True, color='skyblue')\n",
    "plt.title('Распределение корреляций между криптовалютами и акциями')\n",
    "plt.xlabel('Коэффициент корреляции')\n",
    "plt.ylabel('Частота')\n",
    "plt.tight_layout()\n",
    "plt.show()"
   ]
  }
 ],
 "metadata": {
  "kernelspec": {
   "display_name": "Python 3",
   "language": "python",
   "name": "python3"
  },
  "language_info": {
   "name": "python",
   "version": "3.11"
  }
 },
"nbformat": 4,
 "nbformat_minor": 5
}